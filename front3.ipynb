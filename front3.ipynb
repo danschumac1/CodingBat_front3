{
 "cells": [
  {
   "cell_type": "markdown",
   "id": "76c0ff77",
   "metadata": {},
   "source": [
    "# Warmup-1 > front3"
   ]
  },
  {
   "cell_type": "markdown",
   "id": "955156aa",
   "metadata": {},
   "source": [
    "Given a string, we'll say that the front is the first 3 chars of the string. If the string length is less than 3, the front is whatever is there. Return a new string which is 3 copies of the front.\n",
    "\n",
    "\n",
    "front3('Java') → 'JavJavJav'\n",
    "front3('Chocolate') → 'ChoChoCho'\n",
    "front3('abc') → 'abcabcabc'"
   ]
  },
  {
   "cell_type": "code",
   "execution_count": 1,
   "id": "b390bad5",
   "metadata": {},
   "outputs": [],
   "source": [
    "def front3(str):\n",
    "  if len(str) <3:\n",
    "    return str*3\n",
    "  else:\n",
    "    return str[0:3]*3"
   ]
  }
 ],
 "metadata": {
  "kernelspec": {
   "display_name": "Python 3 (ipykernel)",
   "language": "python",
   "name": "python3"
  },
  "language_info": {
   "codemirror_mode": {
    "name": "ipython",
    "version": 3
   },
   "file_extension": ".py",
   "mimetype": "text/x-python",
   "name": "python",
   "nbconvert_exporter": "python",
   "pygments_lexer": "ipython3",
   "version": "3.9.12"
  }
 },
 "nbformat": 4,
 "nbformat_minor": 5
}
